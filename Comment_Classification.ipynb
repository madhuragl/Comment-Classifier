{
  "nbformat": 4,
  "nbformat_minor": 0,
  "metadata": {
    "colab": {
      "provenance": []
    },
    "kernelspec": {
      "name": "python3",
      "display_name": "Python 3"
    },
    "language_info": {
      "name": "python"
    }
  },
  "cells": [
    {
      "cell_type": "markdown",
      "source": [
        "# Importing Libraries"
      ],
      "metadata": {
        "id": "MtG9KTFIXXuy"
      }
    },
    {
      "cell_type": "code",
      "execution_count": 1,
      "metadata": {
        "id": "RdCIx1f9IPnU"
      },
      "outputs": [],
      "source": [
        "import tensorflow as tf        #open source library for neural networks\n",
        "import tensorflow_hub as hub   #repository for ready to deploy trained ML models\n",
        "import pandas as pd            #data analysis and manipulation tool\n",
        "import seaborn as sns          #data visualization tool library based on matplotlib\n",
        "import numpy as np             #array based library\n",
        "%matplotlib inline  \n",
        "from sklearn.model_selection import train_test_split   #to split data into random train and test subsets"
      ]
    },
    {
      "cell_type": "code",
      "source": [
        "print(\"Version: \", tf.__version__) #To check tensorflow version"
      ],
      "metadata": {
        "colab": {
          "base_uri": "https://localhost:8080/"
        },
        "id": "Bi3OUOqLIs9t",
        "outputId": "ef3fac46-795d-4395-ff41-6e8c735d1913"
      },
      "execution_count": 2,
      "outputs": [
        {
          "output_type": "stream",
          "name": "stdout",
          "text": [
            "Version:  2.9.2\n"
          ]
        }
      ]
    },
    {
      "cell_type": "markdown",
      "source": [
        "# Importing Dataset"
      ],
      "metadata": {
        "id": "JhvgcWzRXgNJ"
      }
    },
    {
      "cell_type": "code",
      "source": [
        "csv = pd.read_csv(\"/content/drive/MyDrive/Data DSMLAI/5000 comments datset.csv\",delimiter=\",\",encoding_errors='ignore') # loading the CSV file from the google drive\n",
        "# DataFrame with only \"Comment\" and \"Spam\" columns\n",
        "df = csv[[\"Comment\", \"Spam\"]]\n",
        "# Remove all comments that have no ratings //df = df.dropna()// (In this dataset the comments are all taged as I prepared the dataset myself)\n",
        "df  #printing"
      ],
      "metadata": {
        "colab": {
          "base_uri": "https://localhost:8080/",
          "height": 423
        },
        "id": "8HdN_jhvItvG",
        "outputId": "514ac5cc-081b-4fed-976b-956126056d47"
      },
      "execution_count": 3,
      "outputs": [
        {
          "output_type": "execute_result",
          "data": {
            "text/plain": [
              "                                                Comment  Spam\n",
              "0     &lt;????i make my first million investing in f...     1\n",
              "1     &lt;?l will forever be indebted to you I will ...     1\n",
              "2     <b>????I recommend a professional forex/Bitcoi...     1\n",
              "3     I think Im blessed because if not I wouldnt ha...     1\n",
              "4     <b>I recommend a professional  broker to you g...     1\n",
              "...                                                 ...   ...\n",
              "4995                               She is so beautiful!     0\n",
              "4996  3 seconds in and I want to marry her. I am goi...     0\n",
              "4997                 She talks a lot like Tanmay Bakshi     0\n",
              "4998        Why does her face look like a bad deepfake?     0\n",
              "4999                  So, will bankers lose their jobs?     0\n",
              "\n",
              "[5000 rows x 2 columns]"
            ],
            "text/html": [
              "\n",
              "  <div id=\"df-2ec715a9-9e51-4068-9c53-7a06a0d36609\">\n",
              "    <div class=\"colab-df-container\">\n",
              "      <div>\n",
              "<style scoped>\n",
              "    .dataframe tbody tr th:only-of-type {\n",
              "        vertical-align: middle;\n",
              "    }\n",
              "\n",
              "    .dataframe tbody tr th {\n",
              "        vertical-align: top;\n",
              "    }\n",
              "\n",
              "    .dataframe thead th {\n",
              "        text-align: right;\n",
              "    }\n",
              "</style>\n",
              "<table border=\"1\" class=\"dataframe\">\n",
              "  <thead>\n",
              "    <tr style=\"text-align: right;\">\n",
              "      <th></th>\n",
              "      <th>Comment</th>\n",
              "      <th>Spam</th>\n",
              "    </tr>\n",
              "  </thead>\n",
              "  <tbody>\n",
              "    <tr>\n",
              "      <th>0</th>\n",
              "      <td>&amp;lt;????i make my first million investing in f...</td>\n",
              "      <td>1</td>\n",
              "    </tr>\n",
              "    <tr>\n",
              "      <th>1</th>\n",
              "      <td>&amp;lt;?l will forever be indebted to you I will ...</td>\n",
              "      <td>1</td>\n",
              "    </tr>\n",
              "    <tr>\n",
              "      <th>2</th>\n",
              "      <td>&lt;b&gt;????I recommend a professional forex/Bitcoi...</td>\n",
              "      <td>1</td>\n",
              "    </tr>\n",
              "    <tr>\n",
              "      <th>3</th>\n",
              "      <td>I think Im blessed because if not I wouldnt ha...</td>\n",
              "      <td>1</td>\n",
              "    </tr>\n",
              "    <tr>\n",
              "      <th>4</th>\n",
              "      <td>&lt;b&gt;I recommend a professional  broker to you g...</td>\n",
              "      <td>1</td>\n",
              "    </tr>\n",
              "    <tr>\n",
              "      <th>...</th>\n",
              "      <td>...</td>\n",
              "      <td>...</td>\n",
              "    </tr>\n",
              "    <tr>\n",
              "      <th>4995</th>\n",
              "      <td>She is so beautiful!</td>\n",
              "      <td>0</td>\n",
              "    </tr>\n",
              "    <tr>\n",
              "      <th>4996</th>\n",
              "      <td>3 seconds in and I want to marry her. I am goi...</td>\n",
              "      <td>0</td>\n",
              "    </tr>\n",
              "    <tr>\n",
              "      <th>4997</th>\n",
              "      <td>She talks a lot like Tanmay Bakshi</td>\n",
              "      <td>0</td>\n",
              "    </tr>\n",
              "    <tr>\n",
              "      <th>4998</th>\n",
              "      <td>Why does her face look like a bad deepfake?</td>\n",
              "      <td>0</td>\n",
              "    </tr>\n",
              "    <tr>\n",
              "      <th>4999</th>\n",
              "      <td>So, will bankers lose their jobs?</td>\n",
              "      <td>0</td>\n",
              "    </tr>\n",
              "  </tbody>\n",
              "</table>\n",
              "<p>5000 rows × 2 columns</p>\n",
              "</div>\n",
              "      <button class=\"colab-df-convert\" onclick=\"convertToInteractive('df-2ec715a9-9e51-4068-9c53-7a06a0d36609')\"\n",
              "              title=\"Convert this dataframe to an interactive table.\"\n",
              "              style=\"display:none;\">\n",
              "        \n",
              "  <svg xmlns=\"http://www.w3.org/2000/svg\" height=\"24px\"viewBox=\"0 0 24 24\"\n",
              "       width=\"24px\">\n",
              "    <path d=\"M0 0h24v24H0V0z\" fill=\"none\"/>\n",
              "    <path d=\"M18.56 5.44l.94 2.06.94-2.06 2.06-.94-2.06-.94-.94-2.06-.94 2.06-2.06.94zm-11 1L8.5 8.5l.94-2.06 2.06-.94-2.06-.94L8.5 2.5l-.94 2.06-2.06.94zm10 10l.94 2.06.94-2.06 2.06-.94-2.06-.94-.94-2.06-.94 2.06-2.06.94z\"/><path d=\"M17.41 7.96l-1.37-1.37c-.4-.4-.92-.59-1.43-.59-.52 0-1.04.2-1.43.59L10.3 9.45l-7.72 7.72c-.78.78-.78 2.05 0 2.83L4 21.41c.39.39.9.59 1.41.59.51 0 1.02-.2 1.41-.59l7.78-7.78 2.81-2.81c.8-.78.8-2.07 0-2.86zM5.41 20L4 18.59l7.72-7.72 1.47 1.35L5.41 20z\"/>\n",
              "  </svg>\n",
              "      </button>\n",
              "      \n",
              "  <style>\n",
              "    .colab-df-container {\n",
              "      display:flex;\n",
              "      flex-wrap:wrap;\n",
              "      gap: 12px;\n",
              "    }\n",
              "\n",
              "    .colab-df-convert {\n",
              "      background-color: #E8F0FE;\n",
              "      border: none;\n",
              "      border-radius: 50%;\n",
              "      cursor: pointer;\n",
              "      display: none;\n",
              "      fill: #1967D2;\n",
              "      height: 32px;\n",
              "      padding: 0 0 0 0;\n",
              "      width: 32px;\n",
              "    }\n",
              "\n",
              "    .colab-df-convert:hover {\n",
              "      background-color: #E2EBFA;\n",
              "      box-shadow: 0px 1px 2px rgba(60, 64, 67, 0.3), 0px 1px 3px 1px rgba(60, 64, 67, 0.15);\n",
              "      fill: #174EA6;\n",
              "    }\n",
              "\n",
              "    [theme=dark] .colab-df-convert {\n",
              "      background-color: #3B4455;\n",
              "      fill: #D2E3FC;\n",
              "    }\n",
              "\n",
              "    [theme=dark] .colab-df-convert:hover {\n",
              "      background-color: #434B5C;\n",
              "      box-shadow: 0px 1px 3px 1px rgba(0, 0, 0, 0.15);\n",
              "      filter: drop-shadow(0px 1px 2px rgba(0, 0, 0, 0.3));\n",
              "      fill: #FFFFFF;\n",
              "    }\n",
              "  </style>\n",
              "\n",
              "      <script>\n",
              "        const buttonEl =\n",
              "          document.querySelector('#df-2ec715a9-9e51-4068-9c53-7a06a0d36609 button.colab-df-convert');\n",
              "        buttonEl.style.display =\n",
              "          google.colab.kernel.accessAllowed ? 'block' : 'none';\n",
              "\n",
              "        async function convertToInteractive(key) {\n",
              "          const element = document.querySelector('#df-2ec715a9-9e51-4068-9c53-7a06a0d36609');\n",
              "          const dataTable =\n",
              "            await google.colab.kernel.invokeFunction('convertToInteractive',\n",
              "                                                     [key], {});\n",
              "          if (!dataTable) return;\n",
              "\n",
              "          const docLinkHtml = 'Like what you see? Visit the ' +\n",
              "            '<a target=\"_blank\" href=https://colab.research.google.com/notebooks/data_table.ipynb>data table notebook</a>'\n",
              "            + ' to learn more about interactive tables.';\n",
              "          element.innerHTML = '';\n",
              "          dataTable['output_type'] = 'display_data';\n",
              "          await google.colab.output.renderOutput(dataTable, element);\n",
              "          const docLink = document.createElement('div');\n",
              "          docLink.innerHTML = docLinkHtml;\n",
              "          element.appendChild(docLink);\n",
              "        }\n",
              "      </script>\n",
              "    </div>\n",
              "  </div>\n",
              "  "
            ]
          },
          "metadata": {},
          "execution_count": 3
        }
      ]
    },
    {
      "cell_type": "code",
      "source": [
        "sns.countplot(x=\"Spam\",data=df) #plot from data frame using seaborn library"
      ],
      "metadata": {
        "colab": {
          "base_uri": "https://localhost:8080/",
          "height": 297
        },
        "id": "vnvGeOgjJXcp",
        "outputId": "af0976db-3014-4dde-deb4-6dd7b3d87a74"
      },
      "execution_count": 4,
      "outputs": [
        {
          "output_type": "execute_result",
          "data": {
            "text/plain": [
              "<matplotlib.axes._subplots.AxesSubplot at 0x7fa718b4a450>"
            ]
          },
          "metadata": {},
          "execution_count": 4
        },
        {
          "output_type": "display_data",
          "data": {
            "text/plain": [
              "<Figure size 432x288 with 1 Axes>"
            ],
            "image/png": "[encoded data removed]"
          },
          "metadata": {
            "needs_background": "light"
          }
        }
      ]
    },
    {
      "cell_type": "markdown",
      "source": [
        "# Importing fuctions for Processing and Mechanics"
      ],
      "metadata": {
        "id": "TTpMH5OnXndu"
      }
    },
    {
      "cell_type": "code",
      "source": [
        "# For text mechanics\n",
        "from tensorflow.keras.preprocessing.sequence import pad_sequences #help transform seqence of integer into 2d numpy array\n",
        "from tensorflow.keras.preprocessing.text import Tokenizer #help turn each text into sequence pf integers\n",
        "\n",
        "# For Model mechanics\n",
        "from tensorflow.keras.models import Sequential #to help arranging keras layers into a sequential order\n",
        "from tensorflow.keras.layers import Dense #regular connected NN layer\n",
        "from tensorflow.keras.layers import Flatten  #to flatten the input but doesnt affect the batch size\n",
        "from tensorflow.keras.layers import Dropout   #rehularization technique to reduce overfittting by randomly leaving neurons\n",
        "from tensorflow.keras.layers import Embedding  #turn integers to dense vectors for 1st layer\n",
        "from tensorflow.keras.callbacks import EarlyStopping  # early stop if the growth has been slowed down... helps in reducing overfitting\n",
        "\n",
        "# importing train test split from scikit learn\n",
        "from sklearn.model_selection import train_test_split"
      ],
      "metadata": {
        "id": "Y9PeeKXoKxQC"
      },
      "execution_count": 5,
      "outputs": []
    },
    {
      "cell_type": "markdown",
      "source": [
        "## Splitting Train and Test"
      ],
      "metadata": {
        "id": "Eq2LH10qXPfp"
      }
    },
    {
      "cell_type": "code",
      "source": [
        "x = df['Comment'].values #stpring numpy representation pf dataframe in a variable\n",
        "y = df['Spam'].values\n",
        "\n",
        "x_train, x_test, y_train, y_test = train_test_split(x, y, test_size=0.20, random_state=42) #using four variables to store the train and test test size is how much times of total data we will use for testing, while random state defines the randomness\n",
        "    \n",
        "print(len(x_train)) #printing length of train and test datsets\n",
        "print(len(x_test))"
      ],
      "metadata": {
        "colab": {
          "base_uri": "https://localhost:8080/"
        },
        "id": "l74ZjyodK9FK",
        "outputId": "6a00e557-d468-476c-eae1-0a16dfcfa95e"
      },
      "execution_count": 6,
      "outputs": [
        {
          "output_type": "stream",
          "name": "stdout",
          "text": [
            "4000\n",
            "1000\n"
          ]
        }
      ]
    },
    {
      "cell_type": "markdown",
      "source": [
        "# Model Building"
      ],
      "metadata": {
        "id": "dDyKdScJrYiD"
      }
    },
    {
      "cell_type": "code",
      "source": [
        "model = \"https://tfhub.dev/google/nnlm-en-dim50/2\" #using pre trained model for text embedding \n",
        "hub_layer = hub.KerasLayer(model, input_shape=[], dtype=tf.string, trainable=True) #using a hub keras layer which is trainable and passes string as an inpt and throws tokens as output\n",
        "\n",
        "model = tf.keras.Sequential() #sequencing the layers\n",
        "model.add(hub_layer) #adding hub layers\n",
        "model.add(tf.keras.layers.Dense(16, activation='relu')) #using 16 dense layers for training and learning purposes relu is the activation function\n",
        "#relu- rectified linear unit activation\n",
        "model.add(tf.keras.layers.Dense(1, activation='sigmoid')) #using 1 dense layer for output purposes\n",
        "\n",
        "print(model.summary()) #printing the model summary"
      ],
      "metadata": {
        "colab": {
          "base_uri": "https://localhost:8080/"
        },
        "id": "9Nm5MuCaK_4Y",
        "outputId": "674e88b0-faf7-4d27-d3ba-bcf076a7dce4"
      },
      "execution_count": 7,
      "outputs": [
        {
          "output_type": "stream",
          "name": "stdout",
          "text": [
            "Model: \"sequential\"\n",
            "_________________________________________________________________\n",
            " Layer (type)                Output Shape              Param #   \n",
            "=================================================================\n",
            " keras_layer (KerasLayer)    (None, 50)                48190600  \n",
            "                                                                 \n",
            " dense (Dense)               (None, 16)                816       \n",
            "                                                                 \n",
            " dense_1 (Dense)             (None, 1)                 17        \n",
            "                                                                 \n",
            "=================================================================\n",
            "Total params: 48,191,433\n",
            "Trainable params: 48,191,433\n",
            "Non-trainable params: 0\n",
            "_________________________________________________________________\n",
            "None\n"
          ]
        }
      ]
    },
    {
      "cell_type": "markdown",
      "source": [
        "# Model Training and Fitting"
      ],
      "metadata": {
        "id": "Sv9ewI6seYV8"
      }
    },
    {
      "cell_type": "code",
      "source": [
        "early_stop = EarlyStopping(monitor='val_loss', mode='min', verbose=1, patience=10) #Defining early stopping and the parameters\n",
        "\n",
        "model.compile(optimizer='rmsprop', loss='binary_crossentropy', metrics=['accuracy']) #Model training and parameters\n",
        "\n",
        "model.fit(x_train,\n",
        "         y_train,\n",
        "         epochs=40,\n",
        "         batch_size=512,\n",
        "         validation_data=(x_test, y_test),\n",
        "         verbose=1,\n",
        "         callbacks=[early_stop]) #fitting of the model on our dataset"
      ],
      "metadata": {
        "colab": {
          "base_uri": "https://localhost:8080/"
        },
        "id": "2rzXNOvyLPqI",
        "outputId": "44ef8335-8de7-4048-a921-04e99016979e"
      },
      "execution_count": 8,
      "outputs": [
        {
          "output_type": "stream",
          "name": "stdout",
          "text": [
            "Epoch 1/40\n",
            "8/8 [==============================] - 4s 317ms/step - loss: 0.6788 - accuracy: 0.5845 - val_loss: 0.6383 - val_accuracy: 0.7050\n",
            "Epoch 2/40\n",
            "8/8 [==============================] - 2s 253ms/step - loss: 0.6143 - accuracy: 0.7362 - val_loss: 0.5924 - val_accuracy: 0.7840\n",
            "Epoch 3/40\n",
            "8/8 [==============================] - 2s 257ms/step - loss: 0.5591 - accuracy: 0.8202 - val_loss: 0.5462 - val_accuracy: 0.8300\n",
            "Epoch 4/40\n",
            "8/8 [==============================] - 2s 256ms/step - loss: 0.5024 - accuracy: 0.8685 - val_loss: 0.5002 - val_accuracy: 0.8420\n",
            "Epoch 5/40\n",
            "8/8 [==============================] - 2s 254ms/step - loss: 0.4468 - accuracy: 0.8913 - val_loss: 0.4583 - val_accuracy: 0.8500\n",
            "Epoch 6/40\n",
            "8/8 [==============================] - 2s 255ms/step - loss: 0.3953 - accuracy: 0.9080 - val_loss: 0.4210 - val_accuracy: 0.8550\n",
            "Epoch 7/40\n",
            "8/8 [==============================] - 2s 254ms/step - loss: 0.3487 - accuracy: 0.9175 - val_loss: 0.3903 - val_accuracy: 0.8560\n",
            "Epoch 8/40\n",
            "8/8 [==============================] - 2s 257ms/step - loss: 0.3083 - accuracy: 0.9273 - val_loss: 0.3644 - val_accuracy: 0.8680\n",
            "Epoch 9/40\n",
            "8/8 [==============================] - 2s 253ms/step - loss: 0.2730 - accuracy: 0.9348 - val_loss: 0.3438 - val_accuracy: 0.8730\n",
            "Epoch 10/40\n",
            "8/8 [==============================] - 2s 254ms/step - loss: 0.2423 - accuracy: 0.9417 - val_loss: 0.3283 - val_accuracy: 0.8730\n",
            "Epoch 11/40\n",
            "8/8 [==============================] - 2s 251ms/step - loss: 0.2157 - accuracy: 0.9477 - val_loss: 0.3154 - val_accuracy: 0.8790\n",
            "Epoch 12/40\n",
            "8/8 [==============================] - 2s 255ms/step - loss: 0.1921 - accuracy: 0.9538 - val_loss: 0.3062 - val_accuracy: 0.8850\n",
            "Epoch 13/40\n",
            "8/8 [==============================] - 2s 256ms/step - loss: 0.1714 - accuracy: 0.9578 - val_loss: 0.2995 - val_accuracy: 0.8870\n",
            "Epoch 14/40\n",
            "8/8 [==============================] - 2s 255ms/step - loss: 0.1529 - accuracy: 0.9615 - val_loss: 0.2953 - val_accuracy: 0.8880\n",
            "Epoch 15/40\n",
            "8/8 [==============================] - 2s 259ms/step - loss: 0.1366 - accuracy: 0.9643 - val_loss: 0.2933 - val_accuracy: 0.8870\n",
            "Epoch 16/40\n",
            "8/8 [==============================] - 2s 251ms/step - loss: 0.1223 - accuracy: 0.9680 - val_loss: 0.2922 - val_accuracy: 0.8880\n",
            "Epoch 17/40\n",
            "8/8 [==============================] - 2s 255ms/step - loss: 0.1094 - accuracy: 0.9730 - val_loss: 0.2927 - val_accuracy: 0.8860\n",
            "Epoch 18/40\n",
            "8/8 [==============================] - 2s 253ms/step - loss: 0.0982 - accuracy: 0.9758 - val_loss: 0.2965 - val_accuracy: 0.8860\n",
            "Epoch 19/40\n",
            "8/8 [==============================] - 2s 254ms/step - loss: 0.0884 - accuracy: 0.9778 - val_loss: 0.2979 - val_accuracy: 0.8850\n",
            "Epoch 20/40\n",
            "8/8 [==============================] - 2s 260ms/step - loss: 0.0792 - accuracy: 0.9800 - val_loss: 0.3020 - val_accuracy: 0.8870\n",
            "Epoch 21/40\n",
            "8/8 [==============================] - 2s 253ms/step - loss: 0.0716 - accuracy: 0.9822 - val_loss: 0.3062 - val_accuracy: 0.8880\n",
            "Epoch 22/40\n",
            "8/8 [==============================] - 2s 254ms/step - loss: 0.0641 - accuracy: 0.9852 - val_loss: 0.3129 - val_accuracy: 0.8890\n",
            "Epoch 23/40\n",
            "8/8 [==============================] - 2s 257ms/step - loss: 0.0578 - accuracy: 0.9865 - val_loss: 0.3202 - val_accuracy: 0.8880\n",
            "Epoch 24/40\n",
            "8/8 [==============================] - 2s 253ms/step - loss: 0.0522 - accuracy: 0.9880 - val_loss: 0.3265 - val_accuracy: 0.8890\n",
            "Epoch 25/40\n",
            "8/8 [==============================] - 2s 258ms/step - loss: 0.0469 - accuracy: 0.9885 - val_loss: 0.3346 - val_accuracy: 0.8870\n",
            "Epoch 26/40\n",
            "8/8 [==============================] - 2s 256ms/step - loss: 0.0428 - accuracy: 0.9893 - val_loss: 0.3433 - val_accuracy: 0.8830\n",
            "Epoch 26: early stopping\n"
          ]
        },
        {
          "output_type": "execute_result",
          "data": {
            "text/plain": [
              "<keras.callbacks.History at 0x7fa7133a7c50>"
            ]
          },
          "metadata": {},
          "execution_count": 8
        }
      ]
    },
    {
      "cell_type": "markdown",
      "source": [
        "# Testing on Examples"
      ],
      "metadata": {
        "id": "P17R3nKChTIe"
      }
    },
    {
      "cell_type": "code",
      "source": [
        "exam = [\n",
        "    # From dataset\n",
        "    \"I recommend a professional Forex trading broker to you guys sometime ago, can I get person who invested with her <br>Comment below\",\n",
        "    \n",
        "    # New spam\n",
        "    \"I’m so happy I met Mark on Insta he help me recover my lost Erc20 sent to a wrong network I’m so happy because his trusted and reliable\"\n",
        "    \"This is wonderful and unbelievable just got my Bitcoin account back through Doavercracks on ig thanks a lot really appreciate it.\",\n",
        "    \"I recommend y’all to Doavercracks on IG.\",\n",
        "    \"BTC price to volatiles swing, making it historically popular for traders to speculate on. According to bitcoin having cycles, there should be at least other four months in this bull run, so, if the Pi indicator (and bitcoin) might repeat a similar bull run to 2013,that would mean a local top relatively close in time and then another top to end the bull run towards mid year, investor's and trader's find it difficult to decide how best to utilize the current market, holding is profitable but trading is far more profitable, I was able to grasp knowledge of trading crypto assets earlier enough, I didn't think it was possible to make constant win from trading till I come across Mrs milly program for investor's and newbies who lack understanding on how trading BTC works, to help them stack up more bitcoin, since late last year till date I have made over 19BTC from 2.6BTC with Mrs milly's help, you can easily get to her with this WhatsApp number +1-2-1-0-8-0-6-4-8-8-9\",\n",
        "    \"Never thought it was possible to recover my lost btc until I meet victoolz on insta who helped me...\",\n",
        "    \"Can’t recommend him enough for his tireless effort and tremendous job done Doavercracks on IG his truly the best 💯💯\",\n",
        "    \"Another 0.05682 bitcoin was recover by this Dude *DANTECHIES* on instagram, I appreciate the work he did for me..\",\n",
        "    \"😭😢😭😭 *core_cyber* on Instagram just made me proud, thank you so much sir..\",\n",
        "    \n",
        "    # Not spam\n",
        "    \"Amazing video!\",\n",
        "    \"Maybe to make proof of stake system more democraric we can think about share a certain amount of money the validator get to all the other validators?\",\n",
        "    \"I don’t get it 😅😂\",\n",
        "    \"Watching this video as El Salvador 🇸🇻 just made bitcoin a legal tender..lol\",\n",
        "    \n",
        "    # Made up spam\n",
        "    \"Xavier is wonderful, I traded with him and made huge profits\",\n",
        "    \"Contact Mr. Decuyper on msgnr for advice\"\n",
        "]\n",
        "\n",
        "for test in exam:\n",
        "    out = model.predict([test])\n",
        "    print(\"%s - %f - %s\" % (\"Spam\" if out[0] > 0.5 else \"Not Spam\", out[0], test))\n",
        "    print()"
      ],
      "metadata": {
        "id": "KFk0daU3LWBq",
        "colab": {
          "base_uri": "https://localhost:8080/"
        },
        "outputId": "a60f8cf5-79fc-4dd9-c4d2-99ffcff991d5"
      },
      "execution_count": 11,
      "outputs": [
        {
          "output_type": "stream",
          "name": "stdout",
          "text": [
            "1/1 [==============================] - 0s 103ms/step\n",
            "Spam - 0.998503 - I recommend a professional Forex trading broker to you guys sometime ago, can I get person who invested with her <br>Comment below\n",
            "\n",
            "1/1 [==============================] - 0s 97ms/step\n",
            "Spam - 0.996134 - I’m so happy I met Mark on Insta he help me recover my lost Erc20 sent to a wrong network I’m so happy because his trusted and reliableThis is wonderful and unbelievable just got my Bitcoin account back through Doavercracks on ig thanks a lot really appreciate it.\n",
            "\n",
            "1/1 [==============================] - 0s 112ms/step\n",
            "Spam - 0.829288 - I recommend y’all to Doavercracks on IG.\n",
            "\n",
            "1/1 [==============================] - 0s 96ms/step\n",
            "Spam - 0.998954 - BTC price to volatiles swing, making it historically popular for traders to speculate on. According to bitcoin having cycles, there should be at least other four months in this bull run, so, if the Pi indicator (and bitcoin) might repeat a similar bull run to 2013,that would mean a local top relatively close in time and then another top to end the bull run towards mid year, investor's and trader's find it difficult to decide how best to utilize the current market, holding is profitable but trading is far more profitable, I was able to grasp knowledge of trading crypto assets earlier enough, I didn't think it was possible to make constant win from trading till I come across Mrs milly program for investor's and newbies who lack understanding on how trading BTC works, to help them stack up more bitcoin, since late last year till date I have made over 19BTC from 2.6BTC with Mrs milly's help, you can easily get to her with this WhatsApp number +1-2-1-0-8-0-6-4-8-8-9\n",
            "\n",
            "1/1 [==============================] - 0s 94ms/step\n",
            "Spam - 0.996502 - Never thought it was possible to recover my lost btc until I meet victoolz on insta who helped me...\n",
            "\n",
            "1/1 [==============================] - 0s 96ms/step\n",
            "Spam - 0.995865 - Can’t recommend him enough for his tireless effort and tremendous job done Doavercracks on IG his truly the best 💯💯\n",
            "\n",
            "1/1 [==============================] - 0s 101ms/step\n",
            "Spam - 0.992768 - Another 0.05682 bitcoin was recover by this Dude *DANTECHIES* on instagram, I appreciate the work he did for me..\n",
            "\n",
            "1/1 [==============================] - 0s 98ms/step\n",
            "Spam - 0.970314 - 😭😢😭😭 *core_cyber* on Instagram just made me proud, thank you so much sir..\n",
            "\n",
            "1/1 [==============================] - 0s 101ms/step\n",
            "Not Spam - 0.219843 - Amazing video!\n",
            "\n",
            "1/1 [==============================] - 0s 99ms/step\n",
            "Not Spam - 0.139397 - Maybe to make proof of stake system more democraric we can think about share a certain amount of money the validator get to all the other validators?\n",
            "\n",
            "1/1 [==============================] - 0s 96ms/step\n",
            "Not Spam - 0.011347 - I don’t get it 😅😂\n",
            "\n",
            "1/1 [==============================] - 0s 95ms/step\n",
            "Not Spam - 0.004160 - Watching this video as El Salvador 🇸🇻 just made bitcoin a legal tender..lol\n",
            "\n",
            "1/1 [==============================] - 0s 98ms/step\n",
            "Spam - 0.764280 - Xavier is wonderful, I traded with him and made huge profits\n",
            "\n",
            "1/1 [==============================] - 0s 94ms/step\n",
            "Spam - 0.963402 - Contact Mr. Decuyper on msgnr for advice\n",
            "\n"
          ]
        }
      ]
    },
    {
      "cell_type": "code",
      "source": [
        "#Madhur Agrawal"
      ],
      "metadata": {
        "id": "eIxPIoCOLoYh"
      },
      "execution_count": 9,
      "outputs": []
    }
  ]
}